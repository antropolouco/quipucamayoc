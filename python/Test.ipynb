{
 "cells": [
  {
   "cell_type": "code",
   "execution_count": 12,
   "id": "6f0509b2",
   "metadata": {},
   "outputs": [
    {
     "data": {
      "application/javascript": [
       "element.append(\"<div>hi</div>\");\n"
      ],
      "text/plain": [
       "<IPython.core.display.Javascript object>"
      ]
     },
     "metadata": {},
     "output_type": "display_data"
    }
   ],
   "source": [
    "%%javascript\n",
    "element.append(\"<div>hi</div>\");"
   ]
  },
  {
   "cell_type": "code",
   "execution_count": 13,
   "id": "e297a76a",
   "metadata": {},
   "outputs": [],
   "source": [
    "import quipucamayoc as qp"
   ]
  },
  {
   "cell_type": "code",
   "execution_count": 14,
   "id": "b08ce33f",
   "metadata": {},
   "outputs": [],
   "source": [
    "qp.display()"
   ]
  },
  {
   "cell_type": "code",
   "execution_count": 15,
   "id": "ea8021f6",
   "metadata": {},
   "outputs": [],
   "source": [
    "# display()"
   ]
  },
  {
   "cell_type": "code",
   "execution_count": 16,
   "id": "1f6f8705",
   "metadata": {},
   "outputs": [
    {
     "name": "stdout",
     "output_type": "stream",
     "text": [
      "hello cat world\n"
     ]
    }
   ],
   "source": [
    "qp.talk()"
   ]
  },
  {
   "cell_type": "code",
   "execution_count": 17,
   "id": "543d3f4c",
   "metadata": {},
   "outputs": [],
   "source": [
    "# %run '/Users/beatriz/Documents/techie/coding/Quipucamayoc/python/main.py'"
   ]
  },
  {
   "cell_type": "code",
   "execution_count": 18,
   "id": "a8231ea7",
   "metadata": {},
   "outputs": [],
   "source": [
    "# talk()"
   ]
  },
  {
   "cell_type": "code",
   "execution_count": 19,
   "id": "7633cc81",
   "metadata": {},
   "outputs": [],
   "source": [
    "new_quipu = qp.Quipu()"
   ]
  },
  {
   "cell_type": "code",
   "execution_count": 20,
   "id": "d316e268",
   "metadata": {
    "scrolled": true
   },
   "outputs": [
    {
     "data": {
      "application/javascript": [
       "\"use strict\";\n",
       "element.append(`<svg width=\"408\" height=\"408\" viewBox=\"0 0 408 408\" fill=\"none\" xmlns=\"http://www.w3.org/2000/svg\">\n",
       "<path fill-rule=\"evenodd\" clip-rule=\"evenodd\" d=\"M204 408C316.666 408 408 316.666 408 204C408 91.3339 316.666 0 204 0C91.3339 0 0 91.3339 0 204C0 316.666 91.3339 408 204 408ZM204 249C228.853 249 249 228.853 249 204C249 179.147 228.853 159 204 159C179.147 159 159 179.147 159 204C159 228.853 179.147 249 204 249Z\" fill=\"#D6BD8E\"/>\n",
       "<path fill-rule=\"evenodd\" clip-rule=\"evenodd\" d=\"M376.237 218.576C376.118 213.681 376 208.804 376 204C376.373 199.068 376.801 194.259 377.219 189.565C380.519 152.502 383.178 122.628 353 96C344.904 90.9881 336.173 84.0047 326.969 76.6424C312.3 64.9082 296.426 52.2113 280 45C267.583 39.5488 251.478 39.3303 235.01 39.1069C222.022 38.9308 208.809 38.7515 197 36C157.751 26.8545 130.439 31.861 103 51.7697C75.8145 71.4948 60.8069 109.922 49 144C45.9588 152.778 40.8235 160.5 35.7751 168.091C28.2922 179.342 21 190.307 21 204C21 239.579 38.5151 261.027 58.6348 285.665C61.3872 289.036 64.1883 292.466 67 296C72.1118 302.425 77.0064 309.99 82.0296 317.753C94.0411 336.315 106.788 356.015 125 364C146.121 373.26 193.461 379 218 379C264.177 379 297 361.601 319 324C326.812 310.649 337.469 303.714 347.271 297.337C356.779 291.15 365.482 285.487 370 275C377.199 258.292 376.714 238.289 376.237 218.576ZM266.818 251.744C275.265 244.226 278 241.793 278 215C278 209.135 279.507 204.222 280.962 199.481C283.724 190.481 286.295 182.1 278 169C268.335 153.737 257.708 148.934 248.763 144.892C245.987 143.637 243.373 142.456 241 141.058C231.765 135.618 221.229 135.774 209.97 135.941C208.001 135.97 206.01 136 204 136C198.771 136 194.153 135.679 189.975 135.389C176.244 134.434 167.267 133.81 157 146C154.856 148.546 152.365 151.241 149.754 154.066C139.34 165.335 127 178.686 127 193C119.003 220.989 132.11 235.548 147.398 252.532C151.227 256.786 155.194 261.192 159 266C169.85 272.392 190.497 277 204 277C208.94 277 213.407 277.255 217.509 277.489C232.409 278.341 242.505 278.917 253 266C258.751 258.922 263.284 254.888 266.818 251.744Z\" fill=\"#C38ED6\"/>\n",
       "<path d=\"M290 93C298.718 93 304 97.7245 304 106\" stroke=\"#9C54D6\" stroke-width=\"10\" stroke-linecap=\"round\"/>\n",
       "<path d=\"M319 230C319 225.376 319.07 222.93 322.5 219.5C324.366 217.634 327.918 215.163 329 213\" stroke=\"white\" stroke-width=\"10\" stroke-linecap=\"round\"/>\n",
       "<path d=\"M214 344C214 338.244 215.04 332.4 210.556 328C207.147 324.655 202.454 322.485 198 321\" stroke=\"#9C54D6\" stroke-width=\"10\" stroke-linecap=\"round\"/>\n",
       "<path d=\"M83 224C83 214.783 80.6432 203.035 86 195\" stroke=\"#9C54D6\" stroke-width=\"10\" stroke-linecap=\"round\"/>\n",
       "<path d=\"M140 89C144.885 89 151.248 87.8708 156 89.1667C159.871 90.2225 162.267 95.2672 165 98\" stroke=\"#9C54D6\" stroke-width=\"10\" stroke-linecap=\"round\"/>\n",
       "<path d=\"M114 311C123.023 311 126.374 304.878 129 297\" stroke=\"#9C54D6\" stroke-width=\"10\" stroke-linecap=\"round\"/>\n",
       "<path d=\"M280 339C284.026 339 291.517 340.322 295 338\" stroke=\"#9C54D6\" stroke-width=\"10\" stroke-linecap=\"round\"/>\n",
       "<path d=\"M328 144C334.411 144.712 338.976 153.976 343 158\" stroke=\"#9C54D6\" stroke-width=\"10\" stroke-linecap=\"round\"/>\n",
       "<path d=\"M246 118C246 114.11 246.584 110.064 245 106.5C244.027 104.311 240.973 98.9865 239 98\" stroke=\"#9C54D6\" stroke-width=\"10\" stroke-linecap=\"round\"/>\n",
       "<path d=\"M84 112C84.5795 117.215 89.7959 123.728 93 128\" stroke=\"#4EAFB6\" stroke-width=\"10\" stroke-linecap=\"round\"/>\n",
       "<path d=\"M189 73C194.191 73 204.956 74.1328 207 68\" stroke=\"#4EAFB6\" stroke-width=\"10\" stroke-linecap=\"round\"/>\n",
       "<path d=\"M48.8946 242.814C42.1107 236.715 41.5079 229.555 47.6524 223.487\" stroke=\"#4EAFB6\" stroke-width=\"10\" stroke-linecap=\"round\"/>\n",
       "<path d=\"M128.048 122.073C124.615 125.463 122.745 127.208 117.528 127.323C114.69 127.386 110.092 126.712 107.644 127.542\" stroke=\"#4EAFB6\" stroke-width=\"10\" stroke-linecap=\"round\"/>\n",
       "<path d=\"M294.401 111.942C290.127 116.162 284.979 119.721 285.202 126.084C285.371 130.921 287.411 135.795 289.775 140\" stroke=\"#4EAFB6\" stroke-width=\"10\" stroke-linecap=\"round\"/>\n",
       "<path d=\"M307.244 291.578C300.401 298.336 293.512 308.598 283.378 310.743\" stroke=\"#4EAFB6\" stroke-width=\"10\" stroke-linecap=\"round\"/>\n",
       "<path d=\"M162.652 350.687C158.851 347.269 153.06 343.645 150.325 339.371C148.096 335.888 149.977 330.513 149.88 326.598\" stroke=\"#4EAFB6\" stroke-width=\"10\" stroke-linecap=\"round\"/>\n",
       "<path d=\"M347.717 206.099C340.696 199.786 333.542 201.931 325.65 205.87\" stroke=\"#4EAFB6\" stroke-width=\"10\" stroke-linecap=\"round\"/>\n",
       "<path d=\"M239.329 69.4348C236.195 66.6181 231.348 60.4082 226.913 59.674\" stroke=\"white\" stroke-width=\"10\" stroke-linecap=\"round\"/>\n",
       "<path d=\"M57.1905 178.834C52.7307 173.827 56.0562 163.841 55.9126 158.075\" stroke=\"white\" stroke-width=\"10\" stroke-linecap=\"round\"/>\n",
       "<path d=\"M101.697 255.265C98.8083 258.118 95.3499 260.676 93.9364 264.397C93.068 266.683 91.4914 272.724 92.2943 274.827\" stroke=\"white\" stroke-width=\"10\" stroke-linecap=\"round\"/>\n",
       "<path d=\"M223.307 373C226.729 368.771 227.505 360.346 228.184 354.972\" stroke=\"white\" stroke-width=\"10\" stroke-linecap=\"round\"/>\n",
       "<path d=\"M112.641 328.138C108.602 324.507 101.066 316.145 94.9215 319.211\" stroke=\"white\" stroke-width=\"10\" stroke-linecap=\"round\"/>\n",
       "<path d=\"M330.734 256.193C332.41 263.681 329.415 268.901 322.391 270.097\" stroke=\"#CAEA87\" stroke-width=\"10\" stroke-linecap=\"round\"/>\n",
       "<path d=\"M220.022 300.902C223.947 300.234 226.037 299.94 229.608 302.391C231.55 303.724 234.33 306.418 236.374 307.034\" stroke=\"#CAEA87\" stroke-width=\"10\" stroke-linecap=\"round\"/>\n",
       "<path d=\"M103.076 227.19C107.961 226.358 113.122 226.407 115.994 221.919C118.178 218.508 119.118 214.164 119.523 210.123\" stroke=\"#CAEA87\" stroke-width=\"10\" stroke-linecap=\"round\"/>\n",
       "<path d=\"M179.751 97.3276C187.574 95.9956 197.093 92.2734 204.943 95.7132\" stroke=\"#CAEA87\" stroke-width=\"10\" stroke-linecap=\"round\"/>\n",
       "<path d=\"M305.296 126.776C306.235 130.972 308.417 136.274 308.23 140.543C308.078 144.021 304.257 146.808 302.463 149.55\" stroke=\"#CAEA87\" stroke-width=\"10\" stroke-linecap=\"round\"/>\n",
       "<path d=\"M111.864 136.528C113.598 144.278 119.439 146.271 126.631 147.388\" stroke=\"#CAEA87\" stroke-width=\"10\" stroke-linecap=\"round\"/>\n",
       "<path d=\"M120.006 283.157C120.78 286.615 121.098 293.24 123.738 295.896\" stroke=\"#CAEA87\" stroke-width=\"10\" stroke-linecap=\"round\"/>\n",
       "<path d=\"M294.75 296.203C295.377 301.813 288.392 307.073 285.75 311.111\" stroke=\"#CAEA87\" stroke-width=\"10\" stroke-linecap=\"round\"/>\n",
       "<path d=\"M301.056 222.014C304.359 221.451 307.905 221.368 310.625 219.493C312.297 218.34 316.229 214.948 316.687 213.111\" stroke=\"#CAEA87\" stroke-width=\"10\" stroke-linecap=\"round\"/>\n",
       "<path d=\"M275.009 82C270.694 83.2515 266.169 88.6732 263.159 92.0427\" stroke=\"#CAEA87\" stroke-width=\"10\" stroke-linecap=\"round\"/>\n",
       "<path d=\"M328.296 166.551C329.294 171.01 330.402 180.42 336 181.289\" stroke=\"#CAEA87\" stroke-width=\"10\" stroke-linecap=\"round\"/>\n",
       "</svg>`);\n"
      ],
      "text/plain": [
       "<IPython.core.display.Javascript object>"
      ]
     },
     "metadata": {},
     "output_type": "display_data"
    }
   ],
   "source": [
    "new_quipu.display()"
   ]
  },
  {
   "cell_type": "code",
   "execution_count": 21,
   "id": "b87c209f",
   "metadata": {},
   "outputs": [
    {
     "data": {
      "application/javascript": [
       "\n",
       "// function why() {\n",
       "//   console.log(\"whyyyyy\");\n",
       "// }\n",
       "const why = () => {\n",
       "  console.log(\"whyyyyy\");\n",
       "};\n",
       "why()\n"
      ],
      "text/plain": [
       "<IPython.core.display.Javascript object>"
      ]
     },
     "metadata": {},
     "output_type": "display_data"
    }
   ],
   "source": [
    "%%javascript\n",
    "\n",
    "// function why() {\n",
    "//   console.log(\"whyyyyy\");\n",
    "// }\n",
    "const why = () => {\n",
    "  console.log(\"whyyyyy\");\n",
    "};\n",
    "why()"
   ]
  },
  {
   "cell_type": "code",
   "execution_count": null,
   "id": "84312eb4",
   "metadata": {},
   "outputs": [],
   "source": []
  },
  {
   "cell_type": "code",
   "execution_count": null,
   "id": "efc48bd1",
   "metadata": {},
   "outputs": [],
   "source": []
  }
 ],
 "metadata": {
  "kernelspec": {
   "display_name": "Python 3 (ipykernel)",
   "language": "python",
   "name": "python3"
  },
  "language_info": {
   "codemirror_mode": {
    "name": "ipython",
    "version": 3
   },
   "file_extension": ".py",
   "mimetype": "text/x-python",
   "name": "python",
   "nbconvert_exporter": "python",
   "pygments_lexer": "ipython3",
   "version": "3.8.12"
  }
 },
 "nbformat": 4,
 "nbformat_minor": 5
}
